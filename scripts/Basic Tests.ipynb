{
 "cells": [
  {
   "cell_type": "code",
   "execution_count": 6,
   "metadata": {},
   "outputs": [
    {
     "ename": "TypeError",
     "evalue": "<lambda>() takes 1 positional argument but 4 were given",
     "output_type": "error",
     "traceback": [
      "\u001b[0;31m---------------------------------------------------------------------------\u001b[0m",
      "\u001b[0;31mTypeError\u001b[0m                                 Traceback (most recent call last)",
      "\u001b[1;32m/Users/alex/Desktop/haiku_probe/scripts/Basic Tests.ipynb Cell 1\u001b[0m in \u001b[0;36m<cell line: 5>\u001b[0;34m()\u001b[0m\n\u001b[1;32m      <a href='vscode-notebook-cell:/Users/alex/Desktop/haiku_probe/scripts/Basic%20Tests.ipynb#ch0000000?line=2'>3</a>\u001b[0m \u001b[39mimport\u001b[39;00m \u001b[39mjax\u001b[39;00m\u001b[39m.\u001b[39;00m\u001b[39mnumpy\u001b[39;00m \u001b[39mas\u001b[39;00m \u001b[39mjnp\u001b[39;00m\n\u001b[1;32m      <a href='vscode-notebook-cell:/Users/alex/Desktop/haiku_probe/scripts/Basic%20Tests.ipynb#ch0000000?line=3'>4</a>\u001b[0m \u001b[39mimport\u001b[39;00m \u001b[39mhaiku\u001b[39;00m \u001b[39mas\u001b[39;00m \u001b[39mhk\u001b[39;00m \n\u001b[0;32m----> <a href='vscode-notebook-cell:/Users/alex/Desktop/haiku_probe/scripts/Basic%20Tests.ipynb#ch0000000?line=4'>5</a>\u001b[0m \u001b[39mimport\u001b[39;00m \u001b[39mhaiku_probe\u001b[39;00m \u001b[39mas\u001b[39;00m \u001b[39msb\u001b[39;00m\n\u001b[1;32m      <a href='vscode-notebook-cell:/Users/alex/Desktop/haiku_probe/scripts/Basic%20Tests.ipynb#ch0000000?line=5'>6</a>\u001b[0m \u001b[39mimport\u001b[39;00m \u001b[39mjax\u001b[39;00m\n\u001b[1;32m      <a href='vscode-notebook-cell:/Users/alex/Desktop/haiku_probe/scripts/Basic%20Tests.ipynb#ch0000000?line=6'>7</a>\u001b[0m get_ipython()\u001b[39m.\u001b[39mrun_line_magic(\u001b[39m'\u001b[39m\u001b[39menv\u001b[39m\u001b[39m'\u001b[39m, \u001b[39m\"\u001b[39m\u001b[39mCUDA_VISIBLE_DEVICES=\u001b[39m\u001b[39m'\u001b[39m\u001b[39m'\u001b[39m\u001b[39m\"\u001b[39m)\n",
      "File \u001b[0;32m~/Desktop/haiku_probe/haiku_probe/__init__.py:4\u001b[0m, in \u001b[0;36m<module>\u001b[0;34m\u001b[0m\n\u001b[1;32m      2\u001b[0m \u001b[39mfrom\u001b[39;00m \u001b[39m.\u001b[39;00m\u001b[39mversion\u001b[39;00m \u001b[39mimport\u001b[39;00m __version__  \u001b[39m# noqa\u001b[39;00m\n\u001b[1;32m      3\u001b[0m \u001b[39mfrom\u001b[39;00m \u001b[39m.\u001b[39;00m\u001b[39mhaiku_probe\u001b[39;00m \u001b[39mimport\u001b[39;00m \u001b[39m*\u001b[39m  \u001b[39m# noqa\u001b[39;00m\n\u001b[0;32m----> 4\u001b[0m \u001b[39mfrom\u001b[39;00m \u001b[39m.\u001b[39;00m\u001b[39mmodules\u001b[39;00m \u001b[39mimport\u001b[39;00m \u001b[39m*\u001b[39m\n",
      "File \u001b[0;32m~/Desktop/haiku_probe/haiku_probe/modules/__init__.py:1\u001b[0m, in \u001b[0;36m<module>\u001b[0;34m\u001b[0m\n\u001b[0;32m----> 1\u001b[0m \u001b[39mfrom\u001b[39;00m \u001b[39m.\u001b[39;00m\u001b[39mnetworks\u001b[39;00m \u001b[39mimport\u001b[39;00m \u001b[39m*\u001b[39m\n\u001b[1;32m      2\u001b[0m \u001b[39mfrom\u001b[39;00m \u001b[39m.\u001b[39;00m\u001b[39mutils\u001b[39;00m \u001b[39mimport\u001b[39;00m \u001b[39m*\u001b[39m\n",
      "File \u001b[0;32m~/Desktop/haiku_probe/haiku_probe/modules/networks/__init__.py:1\u001b[0m, in \u001b[0;36m<module>\u001b[0;34m\u001b[0m\n\u001b[0;32m----> 1\u001b[0m \u001b[39mfrom\u001b[39;00m \u001b[39m.\u001b[39;00m\u001b[39mbase_module\u001b[39;00m \u001b[39mimport\u001b[39;00m HaikuAutoInit, AbstractNetwork, TestingNetwork\n",
      "File \u001b[0;32m~/Desktop/haiku_probe/haiku_probe/modules/networks/base_module.py:299\u001b[0m, in \u001b[0;36m<module>\u001b[0;34m\u001b[0m\n\u001b[1;32m    297\u001b[0m probes \u001b[39m=\u001b[39m create_probe(hk\u001b[39m.\u001b[39mLinear, \u001b[39m'\u001b[39m\u001b[39mr\u001b[39m\u001b[39m'\u001b[39m, \u001b[39m'\u001b[39m\u001b[39mgradients\u001b[39m\u001b[39m'\u001b[39m, execution_order\u001b[39m=\u001b[39m\u001b[39m'\u001b[39m\u001b[39mbefore\u001b[39m\u001b[39m'\u001b[39m)\n\u001b[1;32m    298\u001b[0m prober \u001b[39m=\u001b[39m partial(probe_manager, [probes])\n\u001b[0;32m--> 299\u001b[0m model \u001b[39m=\u001b[39m HaikuAutoInit(cfg, SimpleLinear, prober\u001b[39m=\u001b[39;49mprober)\n\u001b[1;32m    300\u001b[0m rng_key \u001b[39m=\u001b[39m hk\u001b[39m.\u001b[39mPRNGSequence(\u001b[39m12392\u001b[39m)\n\u001b[1;32m    301\u001b[0m inp \u001b[39m=\u001b[39m jax\u001b[39m.\u001b[39mrandom\u001b[39m.\u001b[39mnormal(\u001b[39mnext\u001b[39m(rng_key), (\u001b[39m2\u001b[39m, \u001b[39m3\u001b[39m))\n",
      "File \u001b[0;32m~/Desktop/haiku_probe/haiku_probe/modules/networks/base_module.py:93\u001b[0m, in \u001b[0;36mHaikuAutoInit.__init__\u001b[0;34m(self, cfg, network_class, prober)\u001b[0m\n\u001b[1;32m     91\u001b[0m \u001b[39m# jitted_init = jax.jit(partial(self.network.init, training=True, analysis=False))\u001b[39;00m\n\u001b[1;32m     92\u001b[0m jitted_init \u001b[39m=\u001b[39m partial(\u001b[39mself\u001b[39m\u001b[39m.\u001b[39mnetwork\u001b[39m.\u001b[39minit, training\u001b[39m=\u001b[39m\u001b[39mTrue\u001b[39;00m, analysis\u001b[39m=\u001b[39m\u001b[39mFalse\u001b[39;00m)\n\u001b[0;32m---> 93\u001b[0m trainable_params, trainable_state \u001b[39m=\u001b[39m jitted_init(\u001b[39mnext\u001b[39;49m(\u001b[39mself\u001b[39;49m\u001b[39m.\u001b[39;49mrngseq), jnp\u001b[39m.\u001b[39;49mzeros(network_class\u001b[39m.\u001b[39;49minput_dims))\n\u001b[1;32m     95\u001b[0m \u001b[39mself\u001b[39m\u001b[39m.\u001b[39mparams \u001b[39m=\u001b[39m trainable_params\n\u001b[1;32m     96\u001b[0m \u001b[39mself\u001b[39m\u001b[39m.\u001b[39mstate \u001b[39m=\u001b[39m trainable_state\n",
      "File \u001b[0;32m/usr/local/Caskroom/miniconda/base/envs/haiku_env/lib/python3.9/site-packages/haiku/_src/transform.py:335\u001b[0m, in \u001b[0;36mtransform_with_state.<locals>.init_fn\u001b[0;34m(rng, *args, **kwargs)\u001b[0m\n\u001b[1;32m    333\u001b[0m \u001b[39mwith\u001b[39;00m base\u001b[39m.\u001b[39mnew_context(rng\u001b[39m=\u001b[39mrng) \u001b[39mas\u001b[39;00m ctx:\n\u001b[1;32m    334\u001b[0m   \u001b[39mtry\u001b[39;00m:\n\u001b[0;32m--> 335\u001b[0m     f(\u001b[39m*\u001b[39;49margs, \u001b[39m*\u001b[39;49m\u001b[39m*\u001b[39;49mkwargs)\n\u001b[1;32m    336\u001b[0m   \u001b[39mexcept\u001b[39;00m jax\u001b[39m.\u001b[39merrors\u001b[39m.\u001b[39mUnexpectedTracerError \u001b[39mas\u001b[39;00m e:\n\u001b[1;32m    337\u001b[0m     \u001b[39mraise\u001b[39;00m jax\u001b[39m.\u001b[39merrors\u001b[39m.\u001b[39mUnexpectedTracerError(unexpected_tracer_hint) \u001b[39mfrom\u001b[39;00m \u001b[39me\u001b[39;00m\n",
      "File \u001b[0;32m~/Desktop/haiku_probe/haiku_probe/modules/networks/base_module.py:15\u001b[0m, in \u001b[0;36mforward_fn\u001b[0;34m(x, training, analysis, net, cfg, prober)\u001b[0m\n\u001b[1;32m     13\u001b[0m out \u001b[39m=\u001b[39m {}\n\u001b[1;32m     14\u001b[0m \u001b[39mwith\u001b[39;00m prober(out) \u001b[39mif\u001b[39;00m prober \u001b[39mis\u001b[39;00m \u001b[39mnot\u001b[39;00m \u001b[39mNone\u001b[39;00m \u001b[39melse\u001b[39;00m contextlib\u001b[39m.\u001b[39mnullcontext(): \n\u001b[0;32m---> 15\u001b[0m     net_out \u001b[39m=\u001b[39m net(cfg)(x, training, analysis)\n\u001b[1;32m     16\u001b[0m     \u001b[39mif\u001b[39;00m \u001b[39mnot\u001b[39;00m \u001b[39misinstance\u001b[39m(net_out, \u001b[39mdict\u001b[39m):\n\u001b[1;32m     17\u001b[0m         net_out \u001b[39m=\u001b[39m {\u001b[39m'\u001b[39m\u001b[39mout\u001b[39m\u001b[39m'\u001b[39m: net_out}\n",
      "File \u001b[0;32m/usr/local/Caskroom/miniconda/base/envs/haiku_env/lib/python3.9/site-packages/haiku/_src/module.py:121\u001b[0m, in \u001b[0;36mModuleMetaclass.__call__\u001b[0;34m(cls, *args, **kwargs)\u001b[0m\n\u001b[1;32m    119\u001b[0m \u001b[39m# Now attempt to initialize the object.\u001b[39;00m\n\u001b[1;32m    120\u001b[0m init \u001b[39m=\u001b[39m wrap_method(\u001b[39m\"\u001b[39m\u001b[39m__init__\u001b[39m\u001b[39m\"\u001b[39m, \u001b[39mcls\u001b[39m\u001b[39m.\u001b[39m\u001b[39m__init__\u001b[39m)\n\u001b[0;32m--> 121\u001b[0m init(module, \u001b[39m*\u001b[39;49margs, \u001b[39m*\u001b[39;49m\u001b[39m*\u001b[39;49mkwargs)\n\u001b[1;32m    123\u001b[0m \u001b[39mif\u001b[39;00m (config\u001b[39m.\u001b[39mget_config()\u001b[39m.\u001b[39mmodule_auto_repr \u001b[39mand\u001b[39;00m\n\u001b[1;32m    124\u001b[0m     \u001b[39mgetattr\u001b[39m(module, \u001b[39m\"\u001b[39m\u001b[39mAUTO_REPR\u001b[39m\u001b[39m\"\u001b[39m, \u001b[39mTrue\u001b[39;00m)):\n\u001b[1;32m    125\u001b[0m   module\u001b[39m.\u001b[39m_auto_repr \u001b[39m=\u001b[39m utils\u001b[39m.\u001b[39mauto_repr(\u001b[39mcls\u001b[39m, \u001b[39m*\u001b[39margs, \u001b[39m*\u001b[39m\u001b[39m*\u001b[39mkwargs)  \u001b[39m# pylint: disable=protected-access\u001b[39;00m\n",
      "File \u001b[0;32m/usr/local/Caskroom/miniconda/base/envs/haiku_env/lib/python3.9/site-packages/haiku/_src/module.py:421\u001b[0m, in \u001b[0;36mwrap_method.<locals>.wrapped\u001b[0;34m(self, *args, **kwargs)\u001b[0m\n\u001b[1;32m    418\u001b[0m     local_module_name \u001b[39m=\u001b[39m module_name\u001b[39m.\u001b[39msplit(\u001b[39m\"\u001b[39m\u001b[39m/\u001b[39m\u001b[39m\"\u001b[39m)[\u001b[39m-\u001b[39m\u001b[39m1\u001b[39m]\n\u001b[1;32m    419\u001b[0m     f \u001b[39m=\u001b[39m stateful\u001b[39m.\u001b[39mnamed_call(f, name\u001b[39m=\u001b[39mlocal_module_name)\n\u001b[0;32m--> 421\u001b[0m out \u001b[39m=\u001b[39m f(\u001b[39m*\u001b[39;49margs, \u001b[39m*\u001b[39;49m\u001b[39m*\u001b[39;49mkwargs)\n\u001b[1;32m    423\u001b[0m \u001b[39m# Module names are set in the constructor. If `f` is the constructor then\u001b[39;00m\n\u001b[1;32m    424\u001b[0m \u001b[39m# its name will only be set **after** `f` has run. For methods other\u001b[39;00m\n\u001b[1;32m    425\u001b[0m \u001b[39m# than `__init__` we need the name before running in order to wrap their\u001b[39;00m\n\u001b[1;32m    426\u001b[0m \u001b[39m# execution with `named_call`.\u001b[39;00m\n\u001b[1;32m    427\u001b[0m \u001b[39mif\u001b[39;00m module_name \u001b[39mis\u001b[39;00m \u001b[39mNone\u001b[39;00m:\n",
      "File \u001b[0;32m/usr/local/Caskroom/miniconda/base/envs/haiku_env/lib/python3.9/site-packages/haiku/_src/module.py:287\u001b[0m, in \u001b[0;36mrun_interceptors\u001b[0;34m(bound_method, method_name, self, *args, **kwargs)\u001b[0m\n\u001b[1;32m    284\u001b[0m   \u001b[39melse\u001b[39;00m:\n\u001b[1;32m    285\u001b[0m     \u001b[39mreturn\u001b[39;00m bound_method(\u001b[39m*\u001b[39margs, \u001b[39m*\u001b[39m\u001b[39m*\u001b[39mkwargs)\n\u001b[0;32m--> 287\u001b[0m \u001b[39mreturn\u001b[39;00m next_fun(\u001b[39m*\u001b[39;49margs, \u001b[39m*\u001b[39;49m\u001b[39m*\u001b[39;49mkwargs)\n",
      "File \u001b[0;32m/usr/local/Caskroom/miniconda/base/envs/haiku_env/lib/python3.9/site-packages/haiku/_src/module.py:283\u001b[0m, in \u001b[0;36mrun_interceptors.<locals>.next_fun\u001b[0;34m(*args, **kwargs)\u001b[0m\n\u001b[1;32m    279\u001b[0m \u001b[39mif\u001b[39;00m interceptor_stack_copy:\n\u001b[1;32m    280\u001b[0m   \u001b[39m# NOTE: The `interceptor_fun` may call `next_fun` to trigger the next\u001b[39;00m\n\u001b[1;32m    281\u001b[0m   \u001b[39m# interceptor (and so on) allowing interceptors to be run in turn.\u001b[39;00m\n\u001b[1;32m    282\u001b[0m   interceptor_fun \u001b[39m=\u001b[39m interceptor_stack_copy\u001b[39m.\u001b[39mpopleft()\n\u001b[0;32m--> 283\u001b[0m   \u001b[39mreturn\u001b[39;00m interceptor_fun(next_fun, args, kwargs, ctx)\n\u001b[1;32m    284\u001b[0m \u001b[39melse\u001b[39;00m:\n\u001b[1;32m    285\u001b[0m   \u001b[39mreturn\u001b[39;00m bound_method(\u001b[39m*\u001b[39margs, \u001b[39m*\u001b[39m\u001b[39m*\u001b[39mkwargs)\n",
      "\u001b[0;31mTypeError\u001b[0m: <lambda>() takes 1 positional argument but 4 were given"
     ]
    }
   ],
   "source": [
    "import os.path as op\n",
    "import numpy as np\n",
    "import jax.numpy as jnp\n",
    "import haiku as hk \n",
    "import haiku_probe as sb\n",
    "import jax\n",
    "%env CUDA_VISIBLE_DEVICES=''\n",
    "%load_ext autoreload\n",
    "%autoreload 2\n",
    "\n",
    "data_path = op.join(sb.__path__[0], 'data')"
   ]
  },
  {
   "cell_type": "markdown",
   "metadata": {},
   "source": []
  },
  {
   "cell_type": "code",
   "execution_count": 5,
   "metadata": {},
   "outputs": [
    {
     "name": "stdout",
     "output_type": "stream",
     "text": [
      "(28, 16)\n"
     ]
    }
   ],
   "source": [
    "def test_haiku_model_wrapper():\n",
    "    cfg = {'linear':16, 'seed':42}\n",
    "    class SimpleLinear(sb.TestingNetwork):\n",
    "        input_dims = (64, 3)\n",
    "        def __init__(self, cfg, name=None):\n",
    "            super().__init__(cfg, name=name)\n",
    "            self.cfg = cfg\n",
    "        def __call__(self, x, analysis, debug):\n",
    "            return hk.Linear(self.cfg['linear'])(x)\n",
    "\n",
    "        \n",
    "    model = sb.HaikuAutoInit(cfg, SimpleLinear)\n",
    "    rng_key = hk.PRNGSequence(12392)\n",
    "    out, state = model(jax.random.normal(next(rng_key), (28, 3)))\n",
    "    print(out.shape)\n",
    "\n",
    "test_haiku_model_wrapper()"
   ]
  },
  {
   "cell_type": "code",
   "execution_count": null,
   "metadata": {},
   "outputs": [],
   "source": [
    "class Prober(object)\n",
    "    def __init__(self, file_name, method):\n",
    "        self.file_obj = open(file_name, method)\n",
    "    def __enter__(self):\n",
    "        return self.file_obj\n",
    "    def __exit__(self, type, value, traceback):\n",
    "        self.file_obj.close()\n",
    "\n",
    "  cfg = {'linear':16, 'seed':42}\n",
    "    class SimpleLinear(sb.TestingNetwork):\n",
    "        input_dims = (64, 3)\n",
    "        def __init__(self, cfg, name=None):\n",
    "            super().__init__(cfg, name=name)\n",
    "            self.cfg = cfg\n",
    "        def __call__(self, x, analysis, debug):\n",
    "            return hk.Linear(self.cfg['linear'])(x)\n",
    "\n",
    "    \n",
    "model = sb.HaikuAutoInit(cfg, SimpleLinear)\n",
    "rng_key = hk.PRNGSequence(12392)\n",
    "out, state = model(jax.random.normal(next(rng_key), (28, 3)))\n",
    "print(out.shape)"
   ]
  },
  {
   "cell_type": "code",
   "execution_count": null,
   "metadata": {},
   "outputs": [],
   "source": []
  }
 ],
 "metadata": {
  "kernelspec": {
   "display_name": "Python 3.9.12 ('haiku_env')",
   "language": "python",
   "name": "python3"
  },
  "language_info": {
   "codemirror_mode": {
    "name": "ipython",
    "version": 3
   },
   "file_extension": ".py",
   "mimetype": "text/x-python",
   "name": "python",
   "nbconvert_exporter": "python",
   "pygments_lexer": "ipython3",
   "version": "3.9.12"
  },
  "orig_nbformat": 4,
  "vscode": {
   "interpreter": {
    "hash": "8b494c7e5a05e852eeaf81001cdd218645ca2e5458cd95e83e809800b67f39b0"
   }
  }
 },
 "nbformat": 4,
 "nbformat_minor": 2
}
