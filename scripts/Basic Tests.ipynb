{
 "cells": [
  {
   "cell_type": "code",
   "execution_count": 1,
   "metadata": {},
   "outputs": [
    {
     "name": "stdout",
     "output_type": "stream",
     "text": [
      "env: CUDA_VISIBLE_DEVICES=''\n"
     ]
    }
   ],
   "source": [
    "import os.path as op\n",
    "import numpy as np\n",
    "import pandas as pd\n",
    "import numpy.testing as npt\n",
    "import jax.numpy as jnp\n",
    "import haiku as hk \n",
    "import haiku_probe as sb\n",
    "import jax\n",
    "%env CUDA_VISIBLE_DEVICES=''\n",
    "%load_ext autoreload\n",
    "%autoreload 2\n",
    "\n",
    "\n",
    "data_path = op.join(sb.__path__[0], 'data')"
   ]
  },
  {
   "cell_type": "code",
   "execution_count": 5,
   "metadata": {},
   "outputs": [
    {
     "name": "stdout",
     "output_type": "stream",
     "text": [
      "(28, 16)\n"
     ]
    }
   ],
   "source": [
    "def test_haiku_model_wrapper():\n",
    "    cfg = {'linear':16, 'seed':42}\n",
    "    class SimpleLinear(sb.TestingNetwork):\n",
    "        input_dims = (64, 3)\n",
    "        def __init__(self, cfg, name=None):\n",
    "            super().__init__(cfg, name=name)\n",
    "            self.cfg = cfg\n",
    "        def __call__(self, x, analysis, debug):\n",
    "            return hk.Linear(self.cfg['linear'])(x)\n",
    "\n",
    "        \n",
    "    model = sb.HaikuAutoInit(cfg, SimpleLinear)\n",
    "    rng_key = hk.PRNGSequence(12392)\n",
    "    out, state = model(jax.random.normal(next(rng_key), (28, 3)))\n",
    "    print(out.shape)\n",
    "\n",
    "test_haiku_model_wrapper()"
   ]
  },
  {
   "cell_type": "code",
   "execution_count": null,
   "metadata": {},
   "outputs": [],
   "source": [
    "class Prober(object)\n",
    "    def __init__(self, file_name, method):\n",
    "        self.file_obj = open(file_name, method)\n",
    "    def __enter__(self):\n",
    "        return self.file_obj\n",
    "    def __exit__(self, type, value, traceback):\n",
    "        self.file_obj.close()\n",
    "\n",
    "  cfg = {'linear':16, 'seed':42}\n",
    "    class SimpleLinear(sb.TestingNetwork):\n",
    "        input_dims = (64, 3)\n",
    "        def __init__(self, cfg, name=None):\n",
    "            super().__init__(cfg, name=name)\n",
    "            self.cfg = cfg\n",
    "        def __call__(self, x, analysis, debug):\n",
    "            return hk.Linear(self.cfg['linear'])(x)\n",
    "\n",
    "    \n",
    "model = sb.HaikuAutoInit(cfg, SimpleLinear)\n",
    "rng_key = hk.PRNGSequence(12392)\n",
    "out, state = model(jax.random.normal(next(rng_key), (28, 3)))\n",
    "print(out.shape)"
   ]
  },
  {
   "cell_type": "code",
   "execution_count": null,
   "metadata": {},
   "outputs": [],
   "source": []
  }
 ],
 "metadata": {
  "kernelspec": {
   "display_name": "Python 3.9.12 ('foveann_env')",
   "language": "python",
   "name": "python3"
  },
  "language_info": {
   "codemirror_mode": {
    "name": "ipython",
    "version": 3
   },
   "file_extension": ".py",
   "mimetype": "text/x-python",
   "name": "python",
   "nbconvert_exporter": "python",
   "pygments_lexer": "ipython3",
   "version": "3.9.12"
  },
  "orig_nbformat": 4,
  "vscode": {
   "interpreter": {
    "hash": "f0853233b85e6ebb4819af2fa3db5f1b5ef6ff36f18b60f5543bf10a60100145"
   }
  }
 },
 "nbformat": 4,
 "nbformat_minor": 2
}
